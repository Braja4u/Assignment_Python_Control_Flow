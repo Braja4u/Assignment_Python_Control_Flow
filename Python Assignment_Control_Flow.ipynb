{
 "cells": [
  {
   "cell_type": "code",
   "execution_count": 4,
   "id": "f4fb9b2a-4d38-464b-9e03-de98e7fb4907",
   "metadata": {},
   "outputs": [
    {
     "name": "stdin",
     "output_type": "stream",
     "text": [
      "Enter a number as input value:  -1.5\n"
     ]
    },
    {
     "name": "stdout",
     "output_type": "stream",
     "text": [
      "Number given by you is Negative\n"
     ]
    }
   ],
   "source": [
    "# Basic If-Else Statements: >>>>>>>>>>>>>>>>>>>>>>>>>>>>>>>>>>>>>>>>>>>>>>>>>>>>>>>>>>>>>>>>>>>>>>>>>>>>>>>>>>>>>>>>>>>>\n",
    "\n",
    "#1. Write a Python program to check if a given number is positive or negative.\n",
    "\n",
    "# Default function to run if else condition  \n",
    "def NumberCheck(a):   \n",
    "    # Checking if the no. is +ve \n",
    "    if a > 0:   \n",
    "        print(\"Number given by you is Positive\") \n",
    "        \n",
    "    # Checking if the no. is -ve \n",
    "    elif a < 0:   \n",
    "        print(\"Number given by you is Negative\") \n",
    "        \n",
    "    # Else the no. is 0  \n",
    "    else:   \n",
    "        print(\"Number given by you is zero\") \n",
    "        \n",
    "# Taking number from user  \n",
    "a = float(input(\"Enter a number as input value: \"))  \n",
    "\n",
    "# Printing result  \n",
    "NumberCheck(a)  "
   ]
  },
  {
   "cell_type": "code",
   "execution_count": 6,
   "id": "ff449fc7-0ee1-47a4-be42-a786098eb18b",
   "metadata": {},
   "outputs": [
    {
     "name": "stdin",
     "output_type": "stream",
     "text": [
      "Enter your age:  18.0\n"
     ]
    },
    {
     "name": "stdout",
     "output_type": "stream",
     "text": [
      "Eligible to vote\n"
     ]
    }
   ],
   "source": [
    "#2. Create a program that determines if a person is eligible to vote based on their age.\n",
    "\n",
    "def AgeCheck(age):\n",
    "    if age>=18:\n",
    "        print(\"Eligible to vote\")\n",
    "    else:\n",
    "        print(\"Not eligible to vote\")\n",
    "\n",
    "# user input\n",
    "age = float(input(\"Enter your age: \"))  \n",
    "\n",
    "# Printing result  \n",
    "AgeCheck(age) "
   ]
  },
  {
   "cell_type": "code",
   "execution_count": 11,
   "id": "a7e4f154-5687-4c5b-98fc-0fdf5319784f",
   "metadata": {},
   "outputs": [
    {
     "name": "stdout",
     "output_type": "stream",
     "text": [
      "40\n"
     ]
    }
   ],
   "source": [
    "#3. Develop a program to find the maximum of two numbers using if-else statements.\n",
    "\n",
    "# Python program to find the\n",
    "# maximum of two numbers\n",
    "\n",
    "\n",
    "def maximum(a, b):\n",
    "\t\n",
    "\tif a >= b:\n",
    "\t\treturn a\n",
    "\telse:\n",
    "\t\treturn b\n",
    "\t\n",
    "# Driver code\n",
    "a = 21\n",
    "b = 40\n",
    "print(maximum(a, b))\n"
   ]
  },
  {
   "cell_type": "code",
   "execution_count": 15,
   "id": "1052356b-16b3-420c-b39d-8210c569806e",
   "metadata": {},
   "outputs": [
    {
     "name": "stdin",
     "output_type": "stream",
     "text": [
      "Enter the number:  2200\n"
     ]
    },
    {
     "name": "stdout",
     "output_type": "stream",
     "text": [
      "Given Year is not a leap Year\n"
     ]
    }
   ],
   "source": [
    "#4. Write a Python script to classify a given year as a leap year or not.\n",
    "\n",
    "def CheckLeap(Year): \n",
    "      if((Year % 400 == 0) or (Year % 100 != 0) and (Year % 4 == 0)):   \n",
    "             print(\"Given Year is a leap Year\");   \n",
    "    \n",
    "      else:  \n",
    "             print (\"Given Year is not a leap Year\")  \n",
    "            \n",
    "#userinput \n",
    "Year = int(input(\"Enter the number: \"))  \n",
    "\n",
    "# Printing result  \n",
    "CheckLeap(Year)  "
   ]
  },
  {
   "cell_type": "code",
   "execution_count": 16,
   "id": "ba6fa393-b067-48bc-9686-956d5fb69c6c",
   "metadata": {},
   "outputs": [
    {
     "name": "stdout",
     "output_type": "stream",
     "text": [
      "Consonant\n",
      "Vowel\n"
     ]
    }
   ],
   "source": [
    "#5. Create a program that checks whether a character is a vowel or a consonant.\n",
    "\n",
    "def vowelOrConsonant(x):\n",
    "\n",
    "\tif (x == 'a' or x == 'e' or x == 'i' or x == 'o' or x == 'u'):\n",
    "\t\tprint(\"Vowel\")\n",
    "\telse:\n",
    "\t\tprint(\"Consonant\")\n",
    "\n",
    "# Driver code\n",
    "vowelOrConsonant('c')\n",
    "vowelOrConsonant('e')\n"
   ]
  },
  {
   "cell_type": "code",
   "execution_count": 23,
   "id": "114a0032-b575-4b93-a714-77db956d9748",
   "metadata": {},
   "outputs": [
    {
     "name": "stdout",
     "output_type": "stream",
     "text": [
      "5 is Odd Number\n",
      "10 is Odd Number\n"
     ]
    }
   ],
   "source": [
    "#6. Implement a program to determine whether a given number is even or odd.\n",
    "\n",
    "def EvenOrOdd(x):\n",
    "\n",
    "    if x % 24 == 0:\n",
    "        print(x,\"is Even Number\")\n",
    "    else:\n",
    "        print(x, \"is Odd Number\")\n",
    "\n",
    "# Driver code\n",
    "EvenOrOdd(5)\n",
    "EvenOrOdd(10)"
   ]
  },
  {
   "cell_type": "code",
   "execution_count": 28,
   "id": "e3b51f4d-67a8-41fe-8e07-b85b005101c5",
   "metadata": {},
   "outputs": [
    {
     "name": "stdin",
     "output_type": "stream",
     "text": [
      "Enter A:  2\n",
      "Enter B:  5\n",
      "Enter C:  7\n"
     ]
    },
    {
     "name": "stdout",
     "output_type": "stream",
     "text": [
      "Greater is : 7\n"
     ]
    }
   ],
   "source": [
    "# Nested If-Else Statements: >>>>>>>>>>>>>>>>>>>>>>>>>>>>>>>>>>>>>>>>>>>>>>>>>>>>>>>>>>>>>>>>>>>>>>>>>>>>>>>>>>>>>>>>>>>>>>>\n",
    "\n",
    "#11. Write a program to find the largest among three numbers using nested if-else statements.\n",
    "\n",
    "# input three integer numbers \n",
    "a=int(input(\"Enter A: \"))\n",
    "b=int(input(\"Enter B: \"))\n",
    "c=int(input(\"Enter C: \"))\n",
    "\n",
    "# conditions to find largest \n",
    "if a>b:\n",
    "    if a>c:\n",
    "        g=a\n",
    "    else:\n",
    "        g=c\n",
    "else:\n",
    "    if b>c:\n",
    "        g=b\n",
    "    else:\n",
    "        g=c\n",
    "\n",
    "# print the largest number \n",
    "print(\"Greater is :\",g)"
   ]
  },
  {
   "cell_type": "code",
   "execution_count": 32,
   "id": "0bb2e491-93a3-4226-b981-cd86c21e7515",
   "metadata": {},
   "outputs": [
    {
     "name": "stdout",
     "output_type": "stream",
     "text": [
      "Isosceles Triangle\n"
     ]
    }
   ],
   "source": [
    "#12. Implement a program to determine if a triangle is equilateral, isosceles, or scalene.\n",
    "\n",
    "def checkTriangle(x, y, z):\n",
    "\n",
    "\t# equilateral triangle\n",
    "\tif x == y == z:\n",
    "\t\tprint(\"Equilateral Triangle\")\n",
    "\n",
    "\t# isosceles triangle\n",
    "\telif x == y or y == z or z == x:\n",
    "\t\tprint(\"Isosceles Triangle\")\n",
    "\n",
    "\t# scalene triangle\n",
    "\telse:\n",
    "\t\tprint(\"Scalene Triangle\")\n",
    "\n",
    "# Given sides of triangle\n",
    "x = 7\n",
    "y = 8\n",
    "z = 7\n",
    "\n",
    "# Function Call\n",
    "checkTriangle(x, y, z)\n"
   ]
  },
  {
   "cell_type": "code",
   "execution_count": 37,
   "id": "57635249-d767-492d-a838-c81581f2d888",
   "metadata": {},
   "outputs": [
    {
     "name": "stdin",
     "output_type": "stream",
     "text": [
      "Enter the Year:  2000\n"
     ]
    },
    {
     "name": "stdout",
     "output_type": "stream",
     "text": [
      "Given Year is a leap Year as well as Century Year\n"
     ]
    }
   ],
   "source": [
    "#13. Develop a program that checks if a year is a leap year and also if it is a century year.\n",
    "\n",
    "def CheckLeapCenturyYear(Year): \n",
    "      if((Year % 400 == 0) or (Year % 100 != 0) and (Year % 4 == 0)) and (Year % 100 == 0):\n",
    "             print(\"Given Year is a leap Year as well as Century Year\");   \n",
    "    \n",
    "      else:  \n",
    "             print (\"Given Year is neither leap Year nor Century Year\")  \n",
    "            \n",
    "#userinput \n",
    "Year = int(input(\"Enter the Year: \"))  \n",
    "\n",
    "# Printing result  \n",
    "CheckLeapCenturyYear(Year)"
   ]
  },
  {
   "cell_type": "code",
   "execution_count": 43,
   "id": "390d3c78-a0d7-4321-99d8-e7c78df51344",
   "metadata": {},
   "outputs": [
    {
     "name": "stdin",
     "output_type": "stream",
     "text": [
      "Enter a number:  -5\n"
     ]
    },
    {
     "name": "stdout",
     "output_type": "stream",
     "text": [
      "Negative number\n"
     ]
    }
   ],
   "source": [
    "#14. Write a Python script to determine if a number is positive, negative, or zero.\n",
    "\n",
    "def DetermineNum(num):\n",
    "    \n",
    "\n",
    "    if num >= 0:\n",
    "        \n",
    "\t    if num == 0:\n",
    "\t\t    print(\"Zero\")\n",
    "\t    else:\n",
    "\t\t    print(\"Positive number\")\n",
    "    else:\n",
    "\t    print(\"Negative number\")\n",
    "    \n",
    "#userinput \n",
    "num = int(input(\"Enter a number: \"))     \n",
    "#FunctionCall    \n",
    "DetermineNum(num)\n"
   ]
  },
  {
   "cell_type": "code",
   "execution_count": 51,
   "id": "7943f97e-c549-4b33-9c35-ef9c0c6bb3f3",
   "metadata": {},
   "outputs": [
    {
     "name": "stdin",
     "output_type": "stream",
     "text": [
      "Enter Age:  0\n"
     ]
    },
    {
     "name": "stdout",
     "output_type": "stream",
     "text": [
      "Invalid Input\n"
     ]
    }
   ],
   "source": [
    "#15. Create a program to check if a person is a teenager (between 13 and 19 years old).\n",
    "\n",
    "def TeenAge(age):        # = int(input(\"Please enter your age:\"))\n",
    "    \n",
    "    if age > 0:\n",
    "        if age >=13 and age <=19:\n",
    "\t        print('Teenager')\n",
    "        else:\n",
    "            print('Not a Teenager')\n",
    "    else:\n",
    "\t    print('Invalid Input')\n",
    "    \n",
    "#userinput \n",
    "age = int(input(\"Enter Age: \"))     \n",
    "#FunctionCall    \n",
    "TeenAge(age)"
   ]
  },
  {
   "cell_type": "code",
   "execution_count": 53,
   "id": "61d44241-806e-4dab-89df-45f409602996",
   "metadata": {},
   "outputs": [
    {
     "name": "stdin",
     "output_type": "stream",
     "text": [
      "Mark: 91\n"
     ]
    },
    {
     "name": "stdout",
     "output_type": "stream",
     "text": [
      "You got A grade\n"
     ]
    }
   ],
   "source": [
    "# Elif Statements: >>>>>>>>>>>>>>>>>>>>>>>>>>>>>>>>>>>>>>>>>>>>>>>>>>>>>>>>>>>>>>>>>>>>>>>>>>>>>>>>>>>>>>>>>>>>>>>>>>>>>>>\n",
    "\n",
    "#21. Write a Python program to assign grades based on different ranges of scores using elif statements.\n",
    "\n",
    "def MarksGrades(m):\n",
    "\n",
    "    if(m>=80):\n",
    "        print(\"You got A grade\")\n",
    "    elif(m>=60):\n",
    "            print(\"You got B grade\")\n",
    "    elif(m>=40):\n",
    "            print(\"You got C grade\")\n",
    "    else:\n",
    "        print(\"Failed in this Exam \")\n",
    "#userInput       \n",
    "m = int(input(\"Mark:\"))\n",
    "#FunctionCall\n",
    "MarksGrades(m)"
   ]
  },
  {
   "cell_type": "code",
   "execution_count": 55,
   "id": "2e7b608c-86b0-43d0-82a2-39908274e454",
   "metadata": {},
   "outputs": [
    {
     "name": "stdout",
     "output_type": "stream",
     "text": [
      "Scalene Triangle\n"
     ]
    }
   ],
   "source": [
    "#22. Implement a program to determine the type of a triangle based on its angles.\n",
    "\n",
    "\n",
    "def CheckTriangle(x, y, z):\n",
    "\n",
    "\t# _Check for equilateral triangle\n",
    "\tif x == y == z:\n",
    "\t\tprint(\"Equilateral Triangle\")\n",
    "\n",
    "\t# Check for isosceles triangle\n",
    "\telif x == y or y == z or z == x:\n",
    "\t\tprint(\"Isosceles Triangle\")\n",
    "\n",
    "\t# Otherwise scalene triangle\n",
    "\telse:\n",
    "\t\tprint(\"Scalene Triangle\")\n",
    "\n",
    "# Given sides of triangle\n",
    "x = 8\n",
    "y = 7\n",
    "z = 9\n",
    "\n",
    "# Function Call\n",
    "CheckTriangle(x, y, z)\n"
   ]
  },
  {
   "cell_type": "code",
   "execution_count": 59,
   "id": "ba2a96f6-d7f3-4448-94ed-4c566b0e0b6b",
   "metadata": {},
   "outputs": [
    {
     "name": "stdin",
     "output_type": "stream",
     "text": [
      "Enter your height in meters:  1.2\n",
      "Enter your weight in kg:  55\n"
     ]
    },
    {
     "name": "stdout",
     "output_type": "stream",
     "text": [
      "*** BMI Calculator ***\n",
      "Your BMI is:  38.19\n",
      "You are obese.\n"
     ]
    }
   ],
   "source": [
    "#23. Develop a program to categorize a given person's BMI into underweight, normal, overweight, or obese using elif statements.\n",
    "\n",
    "def bodymassindex(height, weight):\n",
    "    return round((weight / height**2),2)\n",
    "\n",
    "\n",
    "h = float(input(\"Enter your height in meters: \"))\n",
    "w = float(input(\"Enter your weight in kg: \"))\n",
    "\n",
    "\n",
    "print(\"*** BMI Calculator ***\")\n",
    "\n",
    "bmi = bodymassindex(h, w)\n",
    "print(\"Your BMI is: \", bmi)\n",
    "\n",
    "\n",
    "if bmi <= 18.5:\n",
    "    print(\"You are underweight.\")\n",
    "elif 18.5 < bmi <= 24.9:\n",
    "    print(\"Your weight is normal.\")\n",
    "elif 25 < bmi <= 29.29:\n",
    "    print(\"You are overweight.\")\n",
    "else:\n",
    "    print(\"You are obese.\")"
   ]
  },
  {
   "cell_type": "code",
   "execution_count": 61,
   "id": "fe934d0d-9b83-4b6a-893a-51912e9ebae4",
   "metadata": {},
   "outputs": [
    {
     "name": "stdin",
     "output_type": "stream",
     "text": [
      "Enter a number:  -1\n"
     ]
    },
    {
     "name": "stdout",
     "output_type": "stream",
     "text": [
      "Negative number\n"
     ]
    }
   ],
   "source": [
    "#24. Create a program that determines whether a given number is positive, negative, or zero using elif statements.\n",
    "\n",
    "num = float(input(\"Enter a number: \"))\n",
    "if num > 0:\n",
    "    print(\"Positive number\")\n",
    "elif num == 0:\n",
    "    print(\"Zero\")\n",
    "else:\n",
    "    print(\"Negative number\")\n"
   ]
  },
  {
   "cell_type": "code",
   "execution_count": 63,
   "id": "b05585aa-3654-4b48-82b6-a3d4ae1a30f9",
   "metadata": {},
   "outputs": [
    {
     "name": "stdin",
     "output_type": "stream",
     "text": [
      "Please Enter Your Own Character :  BraJa\n"
     ]
    },
    {
     "name": "stdout",
     "output_type": "stream",
     "text": [
      "The Given Character  BraJa is a Special Alphabet\n"
     ]
    }
   ],
   "source": [
    "#25. Write a Python script to determine the type of a character (uppercase, lowercase, or special) using elif statements.\n",
    "\n",
    "ch = input(\"Please Enter Your Own Character : \")\n",
    "\n",
    "if(ch.isupper()):\n",
    "    print(\"The Given Character \", ch, \"is an Uppercase Alphabet\")\n",
    "elif(ch.islower()):\n",
    "    print(\"The Given Character \", ch, \"is a Lowercase Alphabet\")\n",
    "else:\n",
    "    print(\"The Given Character \", ch, \"is a Special Alphabet\")"
   ]
  }
 ],
 "metadata": {
  "kernelspec": {
   "display_name": "Python 3 (ipykernel)",
   "language": "python",
   "name": "python3"
  },
  "language_info": {
   "codemirror_mode": {
    "name": "ipython",
    "version": 3
   },
   "file_extension": ".py",
   "mimetype": "text/x-python",
   "name": "python",
   "nbconvert_exporter": "python",
   "pygments_lexer": "ipython3",
   "version": "3.10.8"
  }
 },
 "nbformat": 4,
 "nbformat_minor": 5
}
